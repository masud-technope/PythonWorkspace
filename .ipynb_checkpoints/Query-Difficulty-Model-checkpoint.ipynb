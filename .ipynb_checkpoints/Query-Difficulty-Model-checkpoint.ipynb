{
 "cells": [
  {
   "cell_type": "code",
   "execution_count": 1,
   "metadata": {},
   "outputs": [
    {
     "name": "stderr",
     "output_type": "stream",
     "text": [
      "Using TensorFlow backend.\n"
     ]
    }
   ],
   "source": [
    "import pandas as pd\n",
    "import keras\n",
    "from keras.models import Sequential\n",
    "from keras.models import load_model\n",
    "from keras.layers import Dense\n",
    "from keras.layers import Flatten\n",
    "from keras.layers import Embedding\n",
    "from keras.layers import Activation\n",
    "from keras.layers import SimpleRNN, TimeDistributed\n",
    "from sklearn import model_selection\n",
    "\n",
    "csv_data=pd.read_csv(\"data/blader-data.csv\")\n"
   ]
  },
  {
   "cell_type": "code",
   "execution_count": 9,
   "metadata": {},
   "outputs": [
    {
     "name": "stdout",
     "output_type": "stream",
     "text": [
      "23\n"
     ]
    }
   ],
   "source": [
    "# print(csv_data.describe())\n",
    "print(len(csv_data.columns))\n",
    "\n",
    "#change column values\n",
    "csv_data = csv_data.replace({'qclass': {1: 'high', 0:'low'}})"
   ]
  },
  {
   "cell_type": "code",
   "execution_count": 15,
   "metadata": {},
   "outputs": [],
   "source": [
    "from sklearn.preprocessing import LabelEncoder\n",
    "encoder = LabelEncoder()"
   ]
  },
  {
   "cell_type": "code",
   "execution_count": 16,
   "metadata": {},
   "outputs": [],
   "source": [
    "#setting features and labels\n",
    "\n",
    "all_features=csv_data.iloc[:, 0:22]\n",
    "all_labels=csv_data['qclass']\n",
    "\n",
    "encoder.fit(all_labels)\n",
    "all_labels_encoded = encoder.transform(all_labels)\n",
    "\n",
    "\n",
    "\n",
    "\n",
    "\n"
   ]
  },
  {
   "cell_type": "code",
   "execution_count": 17,
   "metadata": {},
   "outputs": [
    {
     "name": "stdout",
     "output_type": "stream",
     "text": [
      "['high' 'low']\n"
     ]
    }
   ],
   "source": [
    "#training and testing split\n",
    "\n",
    "X_train,X_test,Y_train,Y_test=model_selection.train_test_split(all_features,all_labels_encoded,test_size=0.20)\n",
    "\n",
    "#X_train=csv_data.iloc[:, 0:22]\n",
    "#Y_train=csv_data['qclass']\n",
    "\n",
    "#X_train.describe()\n",
    "#Y_train.describe()\n",
    "\n",
    "input_dim=X_train.shape[1]\n",
    "\n",
    "print(encoder.classes_)"
   ]
  },
  {
   "cell_type": "code",
   "execution_count": 18,
   "metadata": {},
   "outputs": [
    {
     "data": {
      "text/plain": [
       "array([1, 0, 1], dtype=int64)"
      ]
     },
     "execution_count": 18,
     "metadata": {},
     "output_type": "execute_result"
    }
   ],
   "source": [
    "encoder.transform([\"low\",\"high\",\"low\"])"
   ]
  },
  {
   "cell_type": "code",
   "execution_count": 65,
   "metadata": {},
   "outputs": [
    {
     "name": "stdout",
     "output_type": "stream",
     "text": [
      "_________________________________________________________________\n",
      "Layer (type)                 Output Shape              Param #   \n",
      "=================================================================\n",
      "dense_9 (Dense)              (None, 64)                1472      \n",
      "_________________________________________________________________\n",
      "activation_9 (Activation)    (None, 64)                0         \n",
      "_________________________________________________________________\n",
      "dense_10 (Dense)             (None, 2)                 130       \n",
      "_________________________________________________________________\n",
      "activation_10 (Activation)   (None, 2)                 0         \n",
      "=================================================================\n",
      "Total params: 1,602\n",
      "Trainable params: 1,602\n",
      "Non-trainable params: 0\n",
      "_________________________________________________________________\n"
     ]
    },
    {
     "name": "stderr",
     "output_type": "stream",
     "text": [
      "c:\\programdata\\anaconda3\\envs\\graphembed\\lib\\site-packages\\ipykernel_launcher.py:8: UserWarning: Update your `Dense` call to the Keras 2 API: `Dense(units=2)`\n",
      "  \n"
     ]
    }
   ],
   "source": [
    "\n",
    "\n",
    "#input_dim=X_train.shape[1]\n",
    "\n",
    "model = Sequential()\n",
    "model.add(Dense(64,input_shape=(input_dim,)))\n",
    "model.add(Activation(\"tanh\"))\n",
    "model.add(Dense(output_dim=2))\n",
    "model.add(Activation(\"softmax\"))\n",
    "\n",
    "model.summary()"
   ]
  },
  {
   "cell_type": "code",
   "execution_count": 66,
   "metadata": {
    "scrolled": false
   },
   "outputs": [
    {
     "name": "stdout",
     "output_type": "stream",
     "text": [
      "[[0. 1.]\n",
      " [0. 1.]\n",
      " [1. 0.]\n",
      " ...\n",
      " [0. 1.]\n",
      " [0. 1.]\n",
      " [0. 1.]]\n",
      "[[0. 1.]\n",
      " [0. 1.]\n",
      " [0. 1.]\n",
      " ...\n",
      " [1. 0.]\n",
      " [0. 1.]\n",
      " [0. 1.]]\n"
     ]
    }
   ],
   "source": [
    "\n",
    "\n",
    "\n",
    "one_hot_labels = keras.utils.to_categorical(Y_train, num_classes=2)\n",
    "print(one_hot_labels)\n",
    "\n",
    "test_one_hot_labels=keras.utils.to_categorical(Y_test,num_classes=2)\n",
    "print(test_one_hot_labels)\n",
    "\n"
   ]
  },
  {
   "cell_type": "code",
   "execution_count": 23,
   "metadata": {},
   "outputs": [
    {
     "name": "stdout",
     "output_type": "stream",
     "text": [
      "Requirement already up-to-date: imbalanced-learn in c:\\programdata\\anaconda3\\envs\\graphembed\\lib\\site-packages (0.5.0)\n",
      "Requirement already satisfied, skipping upgrade: numpy>=1.11 in c:\\programdata\\anaconda3\\envs\\graphembed\\lib\\site-packages (from imbalanced-learn) (1.16.4)\n",
      "Requirement already satisfied, skipping upgrade: scipy>=0.17 in c:\\programdata\\anaconda3\\envs\\graphembed\\lib\\site-packages (from imbalanced-learn) (1.2.1)\n",
      "Requirement already satisfied, skipping upgrade: scikit-learn>=0.21 in c:\\programdata\\anaconda3\\envs\\graphembed\\lib\\site-packages (from imbalanced-learn) (0.21.1)\n",
      "Requirement already satisfied, skipping upgrade: joblib>=0.11 in c:\\programdata\\anaconda3\\envs\\graphembed\\lib\\site-packages (from imbalanced-learn) (0.13.2)\n"
     ]
    }
   ],
   "source": [
    "!pip install -U imbalanced-learn"
   ]
  },
  {
   "cell_type": "code",
   "execution_count": 67,
   "metadata": {},
   "outputs": [],
   "source": [
    "#creating a balanced batch\n",
    "\n",
    "\n",
    "#system command to install imblearn\n",
    "# !pip install -U imbalanced-learn\n",
    "\n",
    "from imblearn.keras import balanced_batch_generator\n",
    "from imblearn.under_sampling import NearMiss\n",
    "from imblearn.over_sampling import RandomOverSampler\n",
    "from imblearn.under_sampling import RandomUnderSampler\n",
    "\n",
    "\n",
    "training_generator, steps_per_epoch = balanced_batch_generator(X_train, one_hot_labels, sampler=RandomOverSampler(), batch_size=10, random_state=42)\n"
   ]
  },
  {
   "cell_type": "code",
   "execution_count": 68,
   "metadata": {},
   "outputs": [],
   "source": [
    "model.compile(loss='binary_crossentropy', optimizer='adam', metrics=['acc'])"
   ]
  },
  {
   "cell_type": "code",
   "execution_count": 69,
   "metadata": {},
   "outputs": [
    {
     "name": "stdout",
     "output_type": "stream",
     "text": [
      "Epoch 1/100\n",
      " - 1s - loss: 0.8653 - acc: 0.4953\n",
      "Epoch 2/100\n",
      " - 0s - loss: 0.7334 - acc: 0.5079\n",
      "Epoch 3/100\n",
      " - 0s - loss: 0.7140 - acc: 0.5150\n",
      "Epoch 4/100\n",
      " - 0s - loss: 0.7180 - acc: 0.5276\n",
      "Epoch 5/100\n",
      " - 0s - loss: 0.7181 - acc: 0.5118\n",
      "Epoch 6/100\n",
      " - 0s - loss: 0.7109 - acc: 0.5260\n",
      "Epoch 7/100\n",
      " - 0s - loss: 0.7158 - acc: 0.5087\n",
      "Epoch 8/100\n",
      " - 0s - loss: 0.7087 - acc: 0.5228\n",
      "Epoch 9/100\n",
      " - 0s - loss: 0.7098 - acc: 0.5142\n",
      "Epoch 10/100\n",
      " - 0s - loss: 0.7078 - acc: 0.5165\n",
      "Epoch 11/100\n",
      " - 0s - loss: 0.7006 - acc: 0.5189\n",
      "Epoch 12/100\n",
      " - 0s - loss: 0.7007 - acc: 0.5173\n",
      "Epoch 13/100\n",
      " - 0s - loss: 0.7029 - acc: 0.5181\n",
      "Epoch 14/100\n",
      " - 0s - loss: 0.7131 - acc: 0.4929\n",
      "Epoch 15/100\n",
      " - 0s - loss: 0.7036 - acc: 0.5094\n",
      "Epoch 16/100\n",
      " - 0s - loss: 0.7046 - acc: 0.5110\n",
      "Epoch 17/100\n",
      " - 0s - loss: 0.7071 - acc: 0.5118\n",
      "Epoch 18/100\n",
      " - 0s - loss: 0.7046 - acc: 0.5213\n",
      "Epoch 19/100\n",
      " - 0s - loss: 0.7001 - acc: 0.5228\n",
      "Epoch 20/100\n",
      " - 0s - loss: 0.7008 - acc: 0.5283\n",
      "Epoch 21/100\n",
      " - 0s - loss: 0.6993 - acc: 0.5283\n",
      "Epoch 22/100\n",
      " - 0s - loss: 0.6990 - acc: 0.5236\n",
      "Epoch 23/100\n",
      " - 0s - loss: 0.6948 - acc: 0.5370\n",
      "Epoch 24/100\n",
      " - 0s - loss: 0.6976 - acc: 0.5307\n",
      "Epoch 25/100\n",
      " - 0s - loss: 0.6978 - acc: 0.5205\n",
      "Epoch 26/100\n",
      " - 0s - loss: 0.6963 - acc: 0.5228\n",
      "Epoch 27/100\n",
      " - 0s - loss: 0.6956 - acc: 0.5157\n",
      "Epoch 28/100\n",
      " - 0s - loss: 0.6959 - acc: 0.5260\n",
      "Epoch 29/100\n",
      " - 0s - loss: 0.6926 - acc: 0.5228\n",
      "Epoch 30/100\n",
      " - 0s - loss: 0.6931 - acc: 0.5425\n",
      "Epoch 31/100\n",
      " - 0s - loss: 0.6960 - acc: 0.5354\n",
      "Epoch 32/100\n",
      " - 0s - loss: 0.6947 - acc: 0.5370\n",
      "Epoch 33/100\n",
      " - 0s - loss: 0.6937 - acc: 0.5386\n",
      "Epoch 34/100\n",
      " - 0s - loss: 0.6963 - acc: 0.5339\n",
      "Epoch 35/100\n",
      " - 0s - loss: 0.7071 - acc: 0.5220\n",
      "Epoch 36/100\n",
      " - 0s - loss: 0.6992 - acc: 0.5181\n",
      "Epoch 37/100\n",
      " - 0s - loss: 0.6937 - acc: 0.5142\n",
      "Epoch 38/100\n",
      " - 0s - loss: 0.6942 - acc: 0.5220\n",
      "Epoch 39/100\n",
      " - 0s - loss: 0.6925 - acc: 0.5150\n",
      "Epoch 40/100\n",
      " - 0s - loss: 0.6935 - acc: 0.5197\n",
      "Epoch 41/100\n",
      " - 0s - loss: 0.6921 - acc: 0.5181\n",
      "Epoch 42/100\n",
      " - 0s - loss: 0.6926 - acc: 0.5307\n",
      "Epoch 43/100\n",
      " - 0s - loss: 0.6932 - acc: 0.5323\n",
      "Epoch 44/100\n",
      " - 0s - loss: 0.6930 - acc: 0.5299\n",
      "Epoch 45/100\n",
      " - 0s - loss: 0.6943 - acc: 0.5402\n",
      "Epoch 46/100\n",
      " - 0s - loss: 0.6925 - acc: 0.5386\n",
      "Epoch 47/100\n",
      " - 0s - loss: 0.6937 - acc: 0.5472\n",
      "Epoch 48/100\n",
      " - 0s - loss: 0.6942 - acc: 0.5465\n",
      "Epoch 49/100\n",
      " - 0s - loss: 0.6918 - acc: 0.5433\n",
      "Epoch 50/100\n",
      " - 0s - loss: 0.6920 - acc: 0.5457\n",
      "Epoch 51/100\n",
      " - 0s - loss: 0.6927 - acc: 0.5378\n",
      "Epoch 52/100\n",
      " - 0s - loss: 0.6923 - acc: 0.5409\n",
      "Epoch 53/100\n",
      " - 0s - loss: 0.6923 - acc: 0.5339\n",
      "Epoch 54/100\n",
      " - 0s - loss: 0.6913 - acc: 0.5394\n",
      "Epoch 55/100\n",
      " - 0s - loss: 0.6919 - acc: 0.5425\n",
      "Epoch 56/100\n",
      " - 0s - loss: 0.6936 - acc: 0.5346\n",
      "Epoch 57/100\n",
      " - 0s - loss: 0.6943 - acc: 0.5394\n",
      "Epoch 58/100\n",
      " - 0s - loss: 0.6919 - acc: 0.5449\n",
      "Epoch 59/100\n",
      " - 0s - loss: 0.6917 - acc: 0.5362\n",
      "Epoch 60/100\n",
      " - 0s - loss: 0.6892 - acc: 0.5417\n",
      "Epoch 61/100\n",
      " - 0s - loss: 0.6905 - acc: 0.5394\n",
      "Epoch 62/100\n",
      " - 0s - loss: 0.6904 - acc: 0.5480\n",
      "Epoch 63/100\n",
      " - 0s - loss: 0.6913 - acc: 0.5480\n",
      "Epoch 64/100\n",
      " - 0s - loss: 0.6917 - acc: 0.5465\n",
      "Epoch 65/100\n",
      " - 0s - loss: 0.6899 - acc: 0.5543\n",
      "Epoch 66/100\n",
      " - 0s - loss: 0.6892 - acc: 0.5504\n",
      "Epoch 67/100\n",
      " - 0s - loss: 0.6913 - acc: 0.5449\n",
      "Epoch 68/100\n",
      " - 0s - loss: 0.6899 - acc: 0.5465\n",
      "Epoch 69/100\n",
      " - 0s - loss: 0.6916 - acc: 0.5488\n",
      "Epoch 70/100\n",
      " - 0s - loss: 0.6924 - acc: 0.5512\n",
      "Epoch 71/100\n",
      " - 0s - loss: 0.6910 - acc: 0.5504\n",
      "Epoch 72/100\n",
      " - 0s - loss: 0.6905 - acc: 0.5472\n",
      "Epoch 73/100\n",
      " - 0s - loss: 0.6926 - acc: 0.5433\n",
      "Epoch 74/100\n",
      " - 0s - loss: 0.6912 - acc: 0.5433\n",
      "Epoch 75/100\n",
      " - 0s - loss: 0.6914 - acc: 0.5339\n",
      "Epoch 76/100\n",
      " - 0s - loss: 0.6906 - acc: 0.5362\n",
      "Epoch 77/100\n",
      " - 0s - loss: 0.6900 - acc: 0.5386\n",
      "Epoch 78/100\n",
      " - 0s - loss: 0.6907 - acc: 0.5346\n",
      "Epoch 79/100\n",
      " - 0s - loss: 0.6905 - acc: 0.5480\n",
      "Epoch 80/100\n",
      " - 0s - loss: 0.6916 - acc: 0.5472\n",
      "Epoch 81/100\n",
      " - 0s - loss: 0.6938 - acc: 0.5370\n",
      "Epoch 82/100\n",
      " - 0s - loss: 0.6942 - acc: 0.5346\n",
      "Epoch 83/100\n",
      " - 0s - loss: 0.6935 - acc: 0.5323\n",
      "Epoch 84/100\n",
      " - 0s - loss: 0.6928 - acc: 0.5449\n",
      "Epoch 85/100\n",
      " - 0s - loss: 0.6923 - acc: 0.5362\n",
      "Epoch 86/100\n",
      " - 0s - loss: 0.6932 - acc: 0.5197\n",
      "Epoch 87/100\n",
      " - 0s - loss: 0.6934 - acc: 0.5339\n",
      "Epoch 88/100\n",
      " - 0s - loss: 0.6932 - acc: 0.5339\n",
      "Epoch 89/100\n",
      " - 0s - loss: 0.6936 - acc: 0.5346\n",
      "Epoch 90/100\n",
      " - 0s - loss: 0.6924 - acc: 0.5441\n",
      "Epoch 91/100\n",
      " - 0s - loss: 0.6930 - acc: 0.5480\n",
      "Epoch 92/100\n",
      " - 0s - loss: 0.6958 - acc: 0.5291\n",
      "Epoch 93/100\n",
      " - 0s - loss: 0.6952 - acc: 0.5331\n",
      "Epoch 94/100\n",
      " - 0s - loss: 0.6931 - acc: 0.5441\n",
      "Epoch 95/100\n",
      " - 0s - loss: 0.6960 - acc: 0.5315\n",
      "Epoch 96/100\n",
      " - 0s - loss: 0.6949 - acc: 0.5299\n",
      "Epoch 97/100\n",
      " - 0s - loss: 0.6942 - acc: 0.5283\n",
      "Epoch 98/100\n",
      " - 0s - loss: 0.6932 - acc: 0.5307\n",
      "Epoch 99/100\n",
      " - 0s - loss: 0.6925 - acc: 0.5441\n",
      "Epoch 100/100\n",
      " - 0s - loss: 0.6905 - acc: 0.5583\n"
     ]
    },
    {
     "data": {
      "text/plain": [
       "<keras.callbacks.History at 0x25b08473f60>"
      ]
     },
     "execution_count": 69,
     "metadata": {},
     "output_type": "execute_result"
    }
   ],
   "source": [
    "model.fit_generator(generator=training_generator,  steps_per_epoch=steps_per_epoch, epochs=100, verbose=2)"
   ]
  },
  {
   "cell_type": "code",
   "execution_count": null,
   "metadata": {},
   "outputs": [],
   "source": []
  },
  {
   "cell_type": "code",
   "execution_count": 70,
   "metadata": {},
   "outputs": [
    {
     "name": "stdout",
     "output_type": "stream",
     "text": [
      "[[ 17 173]\n",
      " [ 39 431]]\n",
      "0.7135761589403974 0.30357142857142855\n"
     ]
    }
   ],
   "source": [
    "# model.predict(X_test)\n",
    "#scores = model.evaluate(X_test, test_one_hot_labels, verbose=0)\n",
    "\n",
    "predictions=model.predict(X_test)\n",
    "\n",
    "#print(\"%s: %.2f%%\" % (model.metrics_names[1], scores[1]*100))\n",
    "\n",
    "\n",
    "from sklearn.metrics import confusion_matrix\n",
    "matrix = confusion_matrix(test_one_hot_labels.argmax(axis=1), predictions.argmax(axis=1), labels=[0,1])\n",
    "print(matrix)\n",
    "\n",
    "\n",
    "\n",
    "tn,fp,fn,tp =  matrix.ravel()\n",
    "\n",
    "acc1=tp/(tp+fp)\n",
    "acc0=tn/(tn+fn)\n",
    "\n",
    "print(acc1,acc0)\n"
   ]
  },
  {
   "cell_type": "code",
   "execution_count": 34,
   "metadata": {},
   "outputs": [],
   "source": [
    "def print_cm(cm, labels, hide_zeroes=False, hide_diagonal=False, hide_threshold=None):\n",
    "    \"\"\"pretty print for confusion matrixes\"\"\"\n",
    "    columnwidth = max([len(x) for x in labels] + [5])  # 5 is value length\n",
    "    empty_cell = \" \" * columnwidth\n",
    "    \n",
    "    # Begin CHANGES\n",
    "    fst_empty_cell = (columnwidth-3)//2 * \" \" + \"t/p\" + (columnwidth-3)//2 * \" \"\n",
    "    \n",
    "    if len(fst_empty_cell) < len(empty_cell):\n",
    "        fst_empty_cell = \" \" * (len(empty_cell) - len(fst_empty_cell)) + fst_empty_cell\n",
    "    # Print header\n",
    "    print(\"    \" + fst_empty_cell, end=\" \")\n",
    "    # End CHANGES\n",
    "    \n",
    "    for label in labels:\n",
    "        print(\"%{0}s\".format(columnwidth) % label, end=\" \")\n",
    "        \n",
    "    print()\n",
    "    # Print rows\n",
    "    for i, label1 in enumerate(labels):\n",
    "        print(\"    %{0}s\".format(columnwidth) % label1, end=\" \")\n",
    "        for j in range(len(labels)):\n",
    "            cell = \"%{0}.1f\".format(columnwidth) % cm[i, j]\n",
    "            if hide_zeroes:\n",
    "                cell = cell if float(cm[i, j]) != 0 else empty_cell\n",
    "            if hide_diagonal:\n",
    "                cell = cell if i != j else empty_cell\n",
    "            if hide_threshold:\n",
    "                cell = cell if cm[i, j] > hide_threshold else empty_cell\n",
    "            print(cell, end=\" \")\n",
    "        print()"
   ]
  },
  {
   "cell_type": "code",
   "execution_count": 39,
   "metadata": {},
   "outputs": [
    {
     "name": "stdout",
     "output_type": "stream",
     "text": [
      "     t/p      0     1 \n",
      "        0  96.0  94.0 \n",
      "        1 217.0 253.0 \n"
     ]
    }
   ],
   "source": [
    "print_cm(matrix,['0','1'])"
   ]
  },
  {
   "cell_type": "code",
   "execution_count": 235,
   "metadata": {},
   "outputs": [
    {
     "data": {
      "image/png": "[encoded data removed]",
      "text/plain": [
       "<Figure size 432x288 with 1 Axes>"
      ]
     },
     "metadata": {
      "needs_background": "light"
     },
     "output_type": "display_data"
    }
   ],
   "source": [
    "#print(test_one_hot_labels)\n",
    "\n",
    "import matplotlib.pyplot as plt\n",
    "\n",
    "plt.imshow(matrix, cmap='binary', interpolation='None')\n",
    "plt.show()\n",
    "\n"
   ]
  },
  {
   "cell_type": "code",
   "execution_count": 227,
   "metadata": {},
   "outputs": [
    {
     "data": {
      "text/plain": [
       "DescribeResult(nobs=660, minmax=(0, 1), mean=0.7424242424242424, variance=0.19152066951763463, skewness=-1.108734285880379, kurtosis=-0.7707082833133256)"
      ]
     },
     "execution_count": 227,
     "metadata": {},
     "output_type": "execute_result"
    }
   ],
   "source": [
    "from scipy import stats\n",
    "stats.describe(Y_test)"
   ]
  },
  {
   "cell_type": "code",
   "execution_count": null,
   "metadata": {},
   "outputs": [],
   "source": []
  }
 ],
 "metadata": {
  "kernelspec": {
   "display_name": "Python 3",
   "language": "python",
   "name": "python3"
  },
  "language_info": {
   "codemirror_mode": {
    "name": "ipython",
    "version": 3
   },
   "file_extension": ".py",
   "mimetype": "text/x-python",
   "name": "python",
   "nbconvert_exporter": "python",
   "pygments_lexer": "ipython3",
   "version": "3.7.3"
  }
 },
 "nbformat": 4,
 "nbformat_minor": 2
}
