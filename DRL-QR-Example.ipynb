{
 "cells": [
  {
   "cell_type": "code",
   "execution_count": 1,
   "metadata": {},
   "outputs": [
    {
     "ename": "SyntaxError",
     "evalue": "invalid syntax (<ipython-input-1-c5fe73428bb0>, line 2)",
     "output_type": "error",
     "traceback": [
      "\u001b[1;36m  File \u001b[1;32m\"<ipython-input-1-c5fe73428bb0>\"\u001b[1;36m, line \u001b[1;32m2\u001b[0m\n\u001b[1;33m    Bug\t1\u001b[0m\n\u001b[1;37m       \t^\u001b[0m\n\u001b[1;31mSyntaxError\u001b[0m\u001b[1;31m:\u001b[0m invalid syntax\n"
     ]
    }
   ],
   "source": [
    "## keyword index pair\n",
    "Bug\t1\n",
    "buttons\t2\n",
    "incorrectly\t3\n",
    "enabled\t4\n",
    "classpath\t5\n",
    "tab\t6\n",
    "Open\t7\n",
    "Java\t8\n",
    "Launch\t9\n",
    "Configuration\t10\n",
    "Ensure\t11\n",
    "bootstrap\t12\n",
    "entry\t13\n",
    "user\t14\n",
    "Select\t15\n",
    "bottom\t16\n",
    "button\t17\n",
    "pressing\t18\n",
    "top\t19\n",
    "update\t20\n",
    "reflect\t21\n",
    "moving\t22\n",
    "Total nodes:22"
   ]
  },
  {
   "cell_type": "code",
   "execution_count": 2,
   "metadata": {},
   "outputs": [],
   "source": [
    "import numpy as np\n",
    "import pylab as plt\n",
    "import networkx as nx"
   ]
  },
  {
   "cell_type": "code",
   "execution_count": 8,
   "metadata": {},
   "outputs": [],
   "source": [
    "points_list= [\n",
    "    (1,2),\n",
    "(2,1),\n",
    "(2,3),\n",
    "(3,2),\n",
    "(3,4),\n",
    "(4,3),\n",
    "(4,5),\n",
    "(5,4),\n",
    "(5,6),\n",
    "(6,5),\n",
    "(6,7),\n",
    "(7,6),\n",
    "(7,8),\n",
    "(8,7),\n",
    "(8,9),\n",
    "(9,8),\n",
    "(9,10),\n",
    "(10,9),\n",
    "(10,5),\n",
    "(5,10),\n",
    "(6,11),\n",
    "(11,6),\n",
    "(11,12),\n",
    "(12,11),\n",
    "(12,13),\n",
    "(13,12),\n",
    "(13,14),\n",
    "(14,13),\n",
    "(13,15),\n",
    "(15,13),\n",
    "(15,16),\n",
    "(16,15),\n",
    "(16,12),\n",
    "(12,16),\n",
    "(13,17),\n",
    "(17,13),\n",
    "(17,4),\n",
    "(4,17),\n",
    "(4,18),\n",
    "(18,4),\n",
    "(18,15),\n",
    "(15,18),\n",
    "(15,19),\n",
    "(19,15),\n",
    "(19,14),\n",
    "(14,19),\n",
    "(18,20),\n",
    "(20,18),\n",
    "(20,17),\n",
    "(17,20),\n",
    "(17,21),\n",
    "(21,17),\n",
    "(21,22),\n",
    "(22,21),\n",
    "(5,21),\n",
    "(6,13),\n",
    "(13,16),\n",
    "(13,21)\n",
    "]"
   ]
  },
  {
   "cell_type": "code",
   "execution_count": 9,
   "metadata": {},
   "outputs": [
    {
     "data": {
      "image/png": "[encoded data removed]",
      "text/plain": [
       "<Figure size 432x288 with 1 Axes>"
      ]
     },
     "metadata": {},
     "output_type": "display_data"
    }
   ],
   "source": [
    "# constructing the text graph\n",
    "\n",
    "# constructing the graph\n",
    "G=nx.Graph()\n",
    "G.add_edges_from(points_list)\n",
    "pos = nx.spring_layout(G)\n",
    "nx.draw_networkx_nodes(G,pos, node_color='lightgray')\n",
    "nx.draw_networkx_edges(G,pos)\n",
    "nx.draw_networkx_labels(G,pos)\n",
    "plt.show()"
   ]
  },
  {
   "cell_type": "code",
   "execution_count": null,
   "metadata": {},
   "outputs": [],
   "source": [
    "# setting the source and goals\n",
    "\n",
    "#open reflect tab bottom entry classpath\n",
    "7 21 6 16 13 5\n",
    "\n",
    "(5,21)\n",
    "(6,13)\n",
    "(13,16)\n",
    "(13,21)\n"
   ]
  }
 ],
 "metadata": {
  "kernelspec": {
   "display_name": "Python 3",
   "language": "python",
   "name": "python3"
  },
  "language_info": {
   "codemirror_mode": {
    "name": "ipython",
    "version": 3
   },
   "file_extension": ".py",
   "mimetype": "text/x-python",
   "name": "python",
   "nbconvert_exporter": "python",
   "pygments_lexer": "ipython3",
   "version": "3.7.4"
  }
 },
 "nbformat": 4,
 "nbformat_minor": 2
}
