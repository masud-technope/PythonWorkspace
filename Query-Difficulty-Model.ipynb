{
 "cells": [
  {
   "cell_type": "code",
   "execution_count": 84,
   "metadata": {},
   "outputs": [],
   "source": [
    "import pandas as pd\n",
    "import keras\n",
    "from keras.models import Sequential\n",
    "from keras.models import load_model\n",
    "from keras.layers import Dense\n",
    "from keras.layers import Flatten\n",
    "from keras.layers import Embedding\n",
    "from keras.layers import Activation\n",
    "from keras.layers import SimpleRNN, TimeDistributed\n",
    "from sklearn import model_selection\n",
    "\n",
    "csv_data=pd.read_csv(\"data/blader-data.csv\")\n"
   ]
  },
  {
   "cell_type": "code",
   "execution_count": 181,
   "metadata": {},
   "outputs": [
    {
     "name": "stdout",
     "output_type": "stream",
     "text": [
      "23\n"
     ]
    }
   ],
   "source": [
    "# print(csv_data.describe())\n",
    "print(len(csv_data.columns))\n",
    "\n",
    "#change column values\n",
    "csv_data = csv_data.replace({'qclass': {1: 'high', 0:'low'}})"
   ]
  },
  {
   "cell_type": "code",
   "execution_count": 219,
   "metadata": {},
   "outputs": [
    {
     "name": "stdout",
     "output_type": "stream",
     "text": [
      "['high' 'low']\n"
     ]
    }
   ],
   "source": [
    "#setting features and labels\n",
    "#train-test split\n",
    "all_features=csv_data.iloc[:, 0:22]\n",
    "all_labels=csv_data['qclass']\n",
    "\n",
    "\n",
    "encoder_train = LabelEncoder()\n",
    "encoder_train.fit(all_labels)\n",
    "all_labels_encoded = encoder.transform(all_labels)\n",
    "\n",
    "\n",
    "\n",
    "\n",
    "\n",
    "X_train,X_test,Y_train,Y_test=model_selection.train_test_split(all_features,all_labels_encoded,test_size=0.20)\n",
    "\n",
    "#X_train=csv_data.iloc[:, 0:22]\n",
    "#Y_train=csv_data['qclass']\n",
    "\n",
    "#X_train.describe()\n",
    "#Y_train.describe()\n",
    "\n",
    "input_dim=X_train.shape[1]\n",
    "\n",
    "\n",
    "print(encoder.classes_)\n",
    "\n"
   ]
  },
  {
   "cell_type": "code",
   "execution_count": 229,
   "metadata": {},
   "outputs": [
    {
     "data": {
      "text/plain": [
       "array([1, 0, 1], dtype=int64)"
      ]
     },
     "execution_count": 229,
     "metadata": {},
     "output_type": "execute_result"
    }
   ],
   "source": [
    "encoder.transform([\"low\",\"high\",\"low\"])"
   ]
  },
  {
   "cell_type": "code",
   "execution_count": 205,
   "metadata": {},
   "outputs": [
    {
     "name": "stdout",
     "output_type": "stream",
     "text": [
      "_________________________________________________________________\n",
      "Layer (type)                 Output Shape              Param #   \n",
      "=================================================================\n",
      "dense_26 (Dense)             (None, 64)                1472      \n",
      "_________________________________________________________________\n",
      "activation_26 (Activation)   (None, 64)                0         \n",
      "_________________________________________________________________\n",
      "dense_27 (Dense)             (None, 2)                 130       \n",
      "_________________________________________________________________\n",
      "activation_27 (Activation)   (None, 2)                 0         \n",
      "=================================================================\n",
      "Total params: 1,602\n",
      "Trainable params: 1,602\n",
      "Non-trainable params: 0\n",
      "_________________________________________________________________\n"
     ]
    },
    {
     "name": "stderr",
     "output_type": "stream",
     "text": [
      "c:\\users\\masudrahman\\anaconda3\\envs\\graphembed\\lib\\site-packages\\ipykernel_launcher.py:8: UserWarning: Update your `Dense` call to the Keras 2 API: `Dense(units=2)`\n",
      "  \n"
     ]
    }
   ],
   "source": [
    "\n",
    "\n",
    "#input_dim=X_train.shape[1]\n",
    "\n",
    "model = Sequential()\n",
    "model.add(Dense(64,input_shape=(input_dim,)))\n",
    "model.add(Activation(\"sigmoid\"))\n",
    "model.add(Dense(output_dim=2))\n",
    "model.add(Activation(\"softmax\"))\n",
    "\n",
    "model.summary()"
   ]
  },
  {
   "cell_type": "code",
   "execution_count": 206,
   "metadata": {
    "scrolled": false
   },
   "outputs": [
    {
     "name": "stdout",
     "output_type": "stream",
     "text": [
      "[[0. 1.]\n",
      " [0. 1.]\n",
      " [0. 1.]\n",
      " ...\n",
      " [0. 1.]\n",
      " [0. 1.]\n",
      " [0. 1.]]\n",
      "[[0. 1.]\n",
      " [0. 1.]\n",
      " [1. 0.]\n",
      " ...\n",
      " [0. 1.]\n",
      " [0. 1.]\n",
      " [1. 0.]]\n"
     ]
    }
   ],
   "source": [
    "#label encoding\n",
    "from sklearn.preprocessing import LabelEncoder\n",
    "\n",
    "\n",
    "one_hot_labels = keras.utils.to_categorical(Y_train, num_classes=2)\n",
    "print(one_hot_labels)\n",
    "\n",
    "test_one_hot_labels=keras.utils.to_categorical(Y_test,num_classes=2)\n",
    "print(test_one_hot_labels)\n",
    "\n"
   ]
  },
  {
   "cell_type": "code",
   "execution_count": 231,
   "metadata": {},
   "outputs": [],
   "source": [
    "#creating a balanced batch\n",
    "\n",
    "\n",
    "#system command to install imblearn\n",
    "# !pip install -U imbalanced-learn\n",
    "\n",
    "from imblearn.keras import balanced_batch_generator\n",
    "from imblearn.under_sampling import NearMiss\n",
    "from imblearn.over_sampling import RandomOverSampler\n",
    "from imblearn.under_sampling import RandomUnderSampler\n",
    "\n",
    "\n",
    "training_generator, steps_per_epoch = balanced_batch_generator(X_train, one_hot_labels, sampler=NearMiss(), batch_size=100, random_state=42)\n"
   ]
  },
  {
   "cell_type": "code",
   "execution_count": 208,
   "metadata": {},
   "outputs": [],
   "source": [
    "model.compile(loss='binary_crossentropy', optimizer='adam', metrics=['acc'])"
   ]
  },
  {
   "cell_type": "code",
   "execution_count": 240,
   "metadata": {},
   "outputs": [
    {
     "name": "stdout",
     "output_type": "stream",
     "text": [
      "Epoch 1/100\n",
      " - 0s - loss: 0.5937 - acc: 0.6815\n",
      "Epoch 2/100\n",
      " - 0s - loss: 0.5999 - acc: 0.6789\n",
      "Epoch 3/100\n",
      " - 0s - loss: 0.5965 - acc: 0.6778\n",
      "Epoch 4/100\n",
      " - 0s - loss: 0.5964 - acc: 0.6839\n",
      "Epoch 5/100\n",
      " - 0s - loss: 0.5971 - acc: 0.6779\n",
      "Epoch 6/100\n",
      " - 0s - loss: 0.5934 - acc: 0.6816\n",
      "Epoch 7/100\n",
      " - 0s - loss: 0.5918 - acc: 0.6829\n",
      "Epoch 8/100\n",
      " - 0s - loss: 0.5948 - acc: 0.6816\n",
      "Epoch 9/100\n",
      " - 0s - loss: 0.5873 - acc: 0.6908\n",
      "Epoch 10/100\n",
      " - 0s - loss: 0.5950 - acc: 0.6777\n",
      "Epoch 11/100\n",
      " - 0s - loss: 0.5977 - acc: 0.6679\n",
      "Epoch 12/100\n",
      " - 0s - loss: 0.5902 - acc: 0.6825\n",
      "Epoch 13/100\n",
      " - 0s - loss: 0.5826 - acc: 0.6846\n",
      "Epoch 14/100\n",
      " - 0s - loss: 0.5815 - acc: 0.6934\n",
      "Epoch 15/100\n",
      " - 0s - loss: 0.5966 - acc: 0.6802\n",
      "Epoch 16/100\n",
      " - 0s - loss: 0.5969 - acc: 0.6843\n",
      "Epoch 17/100\n",
      " - 0s - loss: 0.5891 - acc: 0.6831\n",
      "Epoch 18/100\n",
      " - 0s - loss: 0.5908 - acc: 0.6839\n",
      "Epoch 19/100\n",
      " - 0s - loss: 0.5898 - acc: 0.6911\n",
      "Epoch 20/100\n",
      " - 0s - loss: 0.5885 - acc: 0.6965\n",
      "Epoch 21/100\n",
      " - 0s - loss: 0.5900 - acc: 0.6879\n",
      "Epoch 22/100\n",
      " - 0s - loss: 0.5957 - acc: 0.6732\n",
      "Epoch 23/100\n",
      " - 0s - loss: 0.5864 - acc: 0.6785\n",
      "Epoch 24/100\n",
      " - 0s - loss: 0.5859 - acc: 0.6962\n",
      "Epoch 25/100\n",
      " - 0s - loss: 0.5917 - acc: 0.6870\n",
      "Epoch 26/100\n",
      " - 0s - loss: 0.5815 - acc: 0.7009\n",
      "Epoch 27/100\n",
      " - 0s - loss: 0.5886 - acc: 0.6872\n",
      "Epoch 28/100\n",
      " - 0s - loss: 0.5846 - acc: 0.6869\n",
      "Epoch 29/100\n",
      " - 0s - loss: 0.5881 - acc: 0.6877\n",
      "Epoch 30/100\n",
      " - 0s - loss: 0.5846 - acc: 0.6924\n",
      "Epoch 31/100\n",
      " - 0s - loss: 0.5890 - acc: 0.6668\n",
      "Epoch 32/100\n",
      " - 0s - loss: 0.5998 - acc: 0.6710\n",
      "Epoch 33/100\n",
      " - 0s - loss: 0.5784 - acc: 0.6972\n",
      "Epoch 34/100\n",
      " - 0s - loss: 0.5825 - acc: 0.6797\n",
      "Epoch 35/100\n",
      " - 0s - loss: 0.5795 - acc: 0.6928\n",
      "Epoch 36/100\n",
      " - 0s - loss: 0.5878 - acc: 0.6848\n",
      "Epoch 37/100\n",
      " - 0s - loss: 0.5854 - acc: 0.6901\n",
      "Epoch 38/100\n",
      " - 0s - loss: 0.5886 - acc: 0.6785\n",
      "Epoch 39/100\n",
      " - 0s - loss: 0.5839 - acc: 0.6833\n",
      "Epoch 40/100\n",
      " - 0s - loss: 0.5773 - acc: 0.6859\n",
      "Epoch 41/100\n",
      " - 0s - loss: 0.5768 - acc: 0.6995\n",
      "Epoch 42/100\n",
      " - 0s - loss: 0.5821 - acc: 0.6971\n",
      "Epoch 43/100\n",
      " - 0s - loss: 0.5889 - acc: 0.6885\n",
      "Epoch 44/100\n",
      " - 0s - loss: 0.5819 - acc: 0.6919\n",
      "Epoch 45/100\n",
      " - 0s - loss: 0.5782 - acc: 0.6924\n",
      "Epoch 46/100\n",
      " - 0s - loss: 0.5842 - acc: 0.6944\n",
      "Epoch 47/100\n",
      " - 0s - loss: 0.5777 - acc: 0.6970\n",
      "Epoch 48/100\n",
      " - 0s - loss: 0.5798 - acc: 0.6867\n",
      "Epoch 49/100\n",
      " - 0s - loss: 0.5790 - acc: 0.6869\n",
      "Epoch 50/100\n",
      " - 0s - loss: 0.5915 - acc: 0.6891\n",
      "Epoch 51/100\n",
      " - 0s - loss: 0.5715 - acc: 0.7004\n",
      "Epoch 52/100\n",
      " - 0s - loss: 0.5871 - acc: 0.6823\n",
      "Epoch 53/100\n",
      " - 0s - loss: 0.5824 - acc: 0.6825\n",
      "Epoch 54/100\n",
      " - 0s - loss: 0.5776 - acc: 0.6905\n",
      "Epoch 55/100\n",
      " - 0s - loss: 0.5793 - acc: 0.6885\n",
      "Epoch 56/100\n",
      " - 0s - loss: 0.5745 - acc: 0.6951\n",
      "Epoch 57/100\n",
      " - 0s - loss: 0.5739 - acc: 0.7108\n",
      "Epoch 58/100\n",
      " - 0s - loss: 0.6041 - acc: 0.6765\n",
      "Epoch 59/100\n",
      " - 0s - loss: 0.5900 - acc: 0.6870\n",
      "Epoch 60/100\n",
      " - 0s - loss: 0.5756 - acc: 0.6995\n",
      "Epoch 61/100\n",
      " - 0s - loss: 0.6029 - acc: 0.6416\n",
      "Epoch 62/100\n",
      " - 0s - loss: 0.5801 - acc: 0.6785\n",
      "Epoch 63/100\n",
      " - 0s - loss: 0.5786 - acc: 0.6970\n",
      "Epoch 64/100\n",
      " - 0s - loss: 0.5841 - acc: 0.6916\n",
      "Epoch 65/100\n",
      " - 0s - loss: 0.5746 - acc: 0.7039\n",
      "Epoch 66/100\n",
      " - 0s - loss: 0.5792 - acc: 0.6946\n",
      "Epoch 67/100\n",
      " - 0s - loss: 0.5795 - acc: 0.6764\n",
      "Epoch 68/100\n",
      " - 0s - loss: 0.5726 - acc: 0.7121\n",
      "Epoch 69/100\n",
      " - 0s - loss: 0.5833 - acc: 0.6903\n",
      "Epoch 70/100\n",
      " - 0s - loss: 0.5763 - acc: 0.6983\n",
      "Epoch 71/100\n",
      " - 0s - loss: 0.5866 - acc: 0.6846\n",
      "Epoch 72/100\n",
      " - 0s - loss: 0.5795 - acc: 0.6871\n",
      "Epoch 73/100\n",
      " - 0s - loss: 0.5755 - acc: 0.6877\n",
      "Epoch 74/100\n",
      " - 0s - loss: 0.5751 - acc: 0.6885\n",
      "Epoch 75/100\n",
      " - 0s - loss: 0.5713 - acc: 0.6905\n",
      "Epoch 76/100\n",
      " - 0s - loss: 0.5713 - acc: 0.6905\n",
      "Epoch 77/100\n",
      " - 0s - loss: 0.5694 - acc: 0.6918\n",
      "Epoch 78/100\n",
      " - 0s - loss: 0.5844 - acc: 0.6919\n",
      "Epoch 79/100\n",
      " - 0s - loss: 0.5681 - acc: 0.7032\n",
      "Epoch 80/100\n",
      " - 0s - loss: 0.5776 - acc: 0.6908\n",
      "Epoch 81/100\n",
      " - 0s - loss: 0.5799 - acc: 0.6746\n",
      "Epoch 82/100\n",
      " - 0s - loss: 0.5735 - acc: 0.6851\n",
      "Epoch 83/100\n",
      " - 0s - loss: 0.5715 - acc: 0.6882\n",
      "Epoch 84/100\n",
      " - 0s - loss: 0.5729 - acc: 0.6908\n",
      "Epoch 85/100\n",
      " - 0s - loss: 0.5915 - acc: 0.6885\n",
      "Epoch 86/100\n",
      " - 0s - loss: 0.5766 - acc: 0.6960\n",
      "Epoch 87/100\n",
      " - 0s - loss: 0.5708 - acc: 0.6918\n",
      "Epoch 88/100\n",
      " - 0s - loss: 0.5764 - acc: 0.6869\n",
      "Epoch 89/100\n",
      " - 0s - loss: 0.5774 - acc: 0.6945\n",
      "Epoch 90/100\n",
      " - 0s - loss: 0.5724 - acc: 0.6942\n",
      "Epoch 91/100\n",
      " - 0s - loss: 0.5682 - acc: 0.6890\n",
      "Epoch 92/100\n",
      " - 0s - loss: 0.5738 - acc: 0.6890\n",
      "Epoch 93/100\n",
      " - 0s - loss: 0.5658 - acc: 0.7010\n",
      "Epoch 94/100\n",
      " - 0s - loss: 0.5741 - acc: 0.6785\n",
      "Epoch 95/100\n",
      " - 0s - loss: 0.5692 - acc: 0.6959\n",
      "Epoch 96/100\n",
      " - 0s - loss: 0.5660 - acc: 0.6998\n",
      "Epoch 97/100\n",
      " - 0s - loss: 0.5743 - acc: 0.7047\n",
      "Epoch 98/100\n",
      " - 0s - loss: 0.5723 - acc: 0.7027\n",
      "Epoch 99/100\n",
      " - 0s - loss: 0.5801 - acc: 0.6870\n",
      "Epoch 100/100\n",
      " - 0s - loss: 0.5651 - acc: 0.6992\n"
     ]
    },
    {
     "data": {
      "text/plain": [
       "<keras.callbacks.History at 0x282ba2d9940>"
      ]
     },
     "execution_count": 240,
     "metadata": {},
     "output_type": "execute_result"
    }
   ],
   "source": [
    "model.fit_generator(generator=training_generator,  steps_per_epoch=steps_per_epoch, epochs=100, verbose=2)"
   ]
  },
  {
   "cell_type": "code",
   "execution_count": null,
   "metadata": {},
   "outputs": [],
   "source": []
  },
  {
   "cell_type": "code",
   "execution_count": 241,
   "metadata": {},
   "outputs": [
    {
     "name": "stdout",
     "output_type": "stream",
     "text": [
      "[[ 89  68]\n",
      " [290 213]]\n",
      "0.7580071174377224 0.23482849604221637\n"
     ]
    }
   ],
   "source": [
    "# model.predict(X_test)\n",
    "#scores = model.evaluate(X_test, test_one_hot_labels, verbose=0)\n",
    "\n",
    "predictions=model.predict(X_test)\n",
    "\n",
    "#print(\"%s: %.2f%%\" % (model.metrics_names[1], scores[1]*100))\n",
    "\n",
    "\n",
    "from sklearn.metrics import confusion_matrix\n",
    "matrix = confusion_matrix(test_one_hot_labels.argmax(axis=1), predictions.argmax(axis=1), labels=[0,1])\n",
    "print(matrix)\n",
    "\n",
    "\n",
    "\n",
    "tn,fp,fn,tp =  matrix.ravel()\n",
    "\n",
    "acc1=tp/(tp+fp)\n",
    "acc0=tn/(tn+fn)\n",
    "\n",
    "print(acc1,acc0)\n",
    "\n",
    "\n",
    "\n",
    "\n",
    "\n",
    "\n"
   ]
  },
  {
   "cell_type": "code",
   "execution_count": 238,
   "metadata": {},
   "outputs": [],
   "source": [
    "def print_cm(cm, labels, hide_zeroes=False, hide_diagonal=False, hide_threshold=None):\n",
    "    \"\"\"pretty print for confusion matrixes\"\"\"\n",
    "    columnwidth = max([len(x) for x in labels] + [5])  # 5 is value length\n",
    "    empty_cell = \" \" * columnwidth\n",
    "    \n",
    "    # Begin CHANGES\n",
    "    fst_empty_cell = (columnwidth-3)//2 * \" \" + \"t/p\" + (columnwidth-3)//2 * \" \"\n",
    "    \n",
    "    if len(fst_empty_cell) < len(empty_cell):\n",
    "        fst_empty_cell = \" \" * (len(empty_cell) - len(fst_empty_cell)) + fst_empty_cell\n",
    "    # Print header\n",
    "    print(\"    \" + fst_empty_cell, end=\" \")\n",
    "    # End CHANGES\n",
    "    \n",
    "    for label in labels:\n",
    "        print(\"%{0}s\".format(columnwidth) % label, end=\" \")\n",
    "        \n",
    "    print()\n",
    "    # Print rows\n",
    "    for i, label1 in enumerate(labels):\n",
    "        print(\"    %{0}s\".format(columnwidth) % label1, end=\" \")\n",
    "        for j in range(len(labels)):\n",
    "            cell = \"%{0}.1f\".format(columnwidth) % cm[i, j]\n",
    "            if hide_zeroes:\n",
    "                cell = cell if float(cm[i, j]) != 0 else empty_cell\n",
    "            if hide_diagonal:\n",
    "                cell = cell if i != j else empty_cell\n",
    "            if hide_threshold:\n",
    "                cell = cell if cm[i, j] > hide_threshold else empty_cell\n",
    "            print(cell, end=\" \")\n",
    "        print()"
   ]
  },
  {
   "cell_type": "code",
   "execution_count": 239,
   "metadata": {},
   "outputs": [
    {
     "name": "stdout",
     "output_type": "stream",
     "text": [
      "     t/p      0     1 \n",
      "        0  95.0  62.0 \n",
      "        1 294.0 209.0 \n"
     ]
    }
   ],
   "source": [
    "print_cm(matrix,['0','1'])"
   ]
  },
  {
   "cell_type": "code",
   "execution_count": 235,
   "metadata": {},
   "outputs": [
    {
     "data": {
      "image/png": "[encoded data removed]",
      "text/plain": [
       "<Figure size 432x288 with 1 Axes>"
      ]
     },
     "metadata": {
      "needs_background": "light"
     },
     "output_type": "display_data"
    }
   ],
   "source": [
    "#print(test_one_hot_labels)\n",
    "\n",
    "import matplotlib.pyplot as plt\n",
    "\n",
    "plt.imshow(matrix, cmap='binary', interpolation='None')\n",
    "plt.show()\n",
    "\n"
   ]
  },
  {
   "cell_type": "code",
   "execution_count": 227,
   "metadata": {},
   "outputs": [
    {
     "data": {
      "text/plain": [
       "DescribeResult(nobs=660, minmax=(0, 1), mean=0.7424242424242424, variance=0.19152066951763463, skewness=-1.108734285880379, kurtosis=-0.7707082833133256)"
      ]
     },
     "execution_count": 227,
     "metadata": {},
     "output_type": "execute_result"
    }
   ],
   "source": [
    "from scipy import stats\n",
    "stats.describe(Y_test)"
   ]
  },
  {
   "cell_type": "code",
   "execution_count": null,
   "metadata": {},
   "outputs": [],
   "source": []
  }
 ],
 "metadata": {
  "kernelspec": {
   "display_name": "Python 3",
   "language": "python",
   "name": "python3"
  },
  "language_info": {
   "codemirror_mode": {
    "name": "ipython",
    "version": 3
   },
   "file_extension": ".py",
   "mimetype": "text/x-python",
   "name": "python",
   "nbconvert_exporter": "python",
   "pygments_lexer": "ipython3",
   "version": "3.7.3"
  }
 },
 "nbformat": 4,
 "nbformat_minor": 2
}
